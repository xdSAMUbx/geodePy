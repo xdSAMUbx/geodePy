{
 "cells": [
  {
   "cell_type": "code",
   "execution_count": 2,
   "id": "af5b861a",
   "metadata": {},
   "outputs": [
    {
     "name": "stdout",
     "output_type": "stream",
     "text": [
      "171122452428141311372468338881272839092270544893520369393648040923257279754140647424000000000000000\n"
     ]
    }
   ],
   "source": [
    "# Factorial\n",
    "\n",
    "def factorial(n: int) -> int:\n",
    "    if n == 0:\n",
    "        return 1\n",
    "    elif n < 0:\n",
    "        raise SyntaxError(\"No se puede calcular el factorial de un número negativo\")\n",
    "\n",
    "    fac = 1\n",
    "    i = 1\n",
    "    while i <= n:\n",
    "        fac *= i\n",
    "        i += 1\n",
    "    \n",
    "    return fac\n",
    "\n",
    "num = factorial(69)\n",
    "print(num)"
   ]
  },
  {
   "cell_type": "code",
   "execution_count": null,
   "id": "eb1d3090",
   "metadata": {},
   "outputs": [
    {
     "name": "stdout",
     "output_type": "stream",
     "text": [
      "340032449328.0\n"
     ]
    }
   ],
   "source": [
    "# Combinatoria\n",
    "\n",
    "def C(n:int, k:int) -> float:\n",
    "\n",
    "    if k>n:\n",
    "        raise SyntaxError(\"En un coeficiente binomial k no puede ser mayor a n\")\n",
    "    else:\n",
    "        num : int = n-k\n",
    "        comb : float = factorial(n)/(factorial(num)*factorial(k))\n",
    "    \n",
    "    return comb\n",
    "\n",
    "res = C(69,10)\n",
    "print(res)"
   ]
  },
  {
   "cell_type": "code",
   "execution_count": null,
   "id": "43f73759",
   "metadata": {},
   "outputs": [
    {
     "name": "stdout",
     "output_type": "stream",
     "text": [
      "1.2339097521214464e+18\n"
     ]
    }
   ],
   "source": [
    "# Permutación\n",
    "\n",
    "def P(n:int, k:int) -> float:\n",
    "    \n",
    "    if k>n:\n",
    "        raise SyntaxError(\"En un coeficiente binomial k no puede ser mayor a n\")\n",
    "    else:\n",
    "        num : int = n-k\n",
    "        per : float = factorial(n)/factorial(num)\n",
    "    \n",
    "    return per\n",
    "\n",
    "res = P(69,10)\n",
    "print(res)"
   ]
  },
  {
   "cell_type": "code",
   "execution_count": 10,
   "id": "57f9cb88",
   "metadata": {},
   "outputs": [
    {
     "name": "stdout",
     "output_type": "stream",
     "text": [
      "290752384208.0\n"
     ]
    }
   ],
   "source": [
    "# Combinatoria con Repetición\n",
    "\n",
    "def CR(n:int, k:int) -> float:\n",
    "\n",
    "    if k>n:\n",
    "        raise SyntaxError(\"En un coeficiente binomial k no puede ser mayor a n\")\n",
    "    else:\n",
    "        num1 : int = n+k-1\n",
    "        num2 : int = n-1\n",
    "        cr : float = factorial(num1)/(factorial(k)*factorial(num2))\n",
    "    \n",
    "    return cr\n",
    "\n",
    "res = CR(59,10)\n",
    "print(res)"
   ]
  },
  {
   "cell_type": "code",
   "execution_count": 26,
   "id": "87eceacf",
   "metadata": {},
   "outputs": [
    {
     "name": "stdout",
     "output_type": "stream",
     "text": [
      "60.0\n"
     ]
    }
   ],
   "source": [
    "# Permutaciones con Repetición\n",
    "def PR(n: int, x:int) -> float:\n",
    "\n",
    "    reps:list = [] #valores donde van a quedar guardadas las repeticiones que el usuario desee realizar\n",
    "    for i in range (1,x+1):\n",
    "        reps.append(factorial(i))\n",
    "\n",
    "    # multiplica los valores internos obtenidos de los factoriales ya calculados y los multiplica para obtener el denominador\n",
    "    den:int = 1\n",
    "    for i in reps:\n",
    "        den *= i\n",
    "\n",
    "    # Calcula la permutación con repetición\n",
    "    pr:float = factorial(n)/den\n",
    "\n",
    "    return pr\n",
    "\n",
    "res = PR(6,3)\n",
    "print(res)"
   ]
  },
  {
   "cell_type": "code",
   "execution_count": 28,
   "id": "32f1ce76",
   "metadata": {},
   "outputs": [
    {
     "name": "stdout",
     "output_type": "stream",
     "text": [
      "30.0\n"
     ]
    }
   ],
   "source": [
    "# Variaciones\n",
    "def V(n: int, k:int) -> float:\n",
    "\n",
    "    num = n-k\n",
    "    v = factorial(n)/factorial(num)\n",
    "\n",
    "    return v\n",
    "\n",
    "res = V(6,2)\n",
    "print(res)"
   ]
  },
  {
   "cell_type": "code",
   "execution_count": 29,
   "id": "a0746781",
   "metadata": {},
   "outputs": [
    {
     "name": "stdout",
     "output_type": "stream",
     "text": [
      "64\n"
     ]
    }
   ],
   "source": [
    "# Varaciones con Repetición\n",
    "def VR(n: int, k:int) -> float:\n",
    "    vr = n**k\n",
    "    return vr\n",
    "\n",
    "res = VR(4,3)\n",
    "print(res)"
   ]
  }
 ],
 "metadata": {
  "kernelspec": {
   "display_name": "Python 3",
   "language": "python",
   "name": "python3"
  },
  "language_info": {
   "codemirror_mode": {
    "name": "ipython",
    "version": 3
   },
   "file_extension": ".py",
   "mimetype": "text/x-python",
   "name": "python",
   "nbconvert_exporter": "python",
   "pygments_lexer": "ipython3",
   "version": "3.12.9"
  }
 },
 "nbformat": 4,
 "nbformat_minor": 5
}
