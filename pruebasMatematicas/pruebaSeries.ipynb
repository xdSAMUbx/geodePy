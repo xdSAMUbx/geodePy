{
 "cells": [
  {
   "cell_type": "code",
   "execution_count": 1,
   "id": "39ab0937",
   "metadata": {},
   "outputs": [],
   "source": [
    "# Serie Seno \n",
    "def sen():\n",
    "    pass"
   ]
  },
  {
   "cell_type": "code",
   "execution_count": null,
   "id": "daba8f10",
   "metadata": {},
   "outputs": [],
   "source": [
    "# Serie Coseno\n",
    "def cos():\n",
    "    pass"
   ]
  },
  {
   "cell_type": "code",
   "execution_count": 3,
   "id": "116b0dac",
   "metadata": {},
   "outputs": [],
   "source": [
    "# Polinomio Seno"
   ]
  },
  {
   "cell_type": "code",
   "execution_count": null,
   "id": "6a6f665b",
   "metadata": {},
   "outputs": [],
   "source": [
    "# Polinomio Coseno"
   ]
  }
 ],
 "metadata": {
  "kernelspec": {
   "display_name": "Python 3",
   "language": "python",
   "name": "python3"
  },
  "language_info": {
   "codemirror_mode": {
    "name": "ipython",
    "version": 3
   },
   "file_extension": ".py",
   "mimetype": "text/x-python",
   "name": "python",
   "nbconvert_exporter": "python",
   "pygments_lexer": "ipython3",
   "version": "3.12.9"
  }
 },
 "nbformat": 4,
 "nbformat_minor": 5
}
