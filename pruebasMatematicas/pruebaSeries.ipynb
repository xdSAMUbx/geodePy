{
 "cells": [
  {
   "cell_type": "code",
   "execution_count": 5,
   "id": "ac9834f5",
   "metadata": {},
   "outputs": [
    {
     "name": "stdout",
     "output_type": "stream",
     "text": [
      "3628800\n"
     ]
    }
   ],
   "source": [
    "# factorial debera importarse desde la otra sección de la libreria\n",
    "# Factorial\n",
    "\n",
    "def factorial(n: int) -> int:\n",
    "    if n == 0:\n",
    "        return 1\n",
    "    elif n < 0:\n",
    "        raise SyntaxError(\"No se puede calcular el factorial de un número negativo\")\n",
    "\n",
    "    fac = 1\n",
    "    i = 1\n",
    "    while i <= n:\n",
    "        fac *= i\n",
    "        i += 1\n",
    "    \n",
    "    return fac\n",
    "\n",
    "num = factorial(10)\n",
    "print(num)"
   ]
  },
  {
   "cell_type": "code",
   "execution_count": 7,
   "id": "3b8e16fa",
   "metadata": {},
   "outputs": [
    {
     "name": "stdout",
     "output_type": "stream",
     "text": [
      "0.7071540833829685\n"
     ]
    }
   ],
   "source": [
    "# Angulo a radianes\n",
    "def rad(gra:float,min:float,sec:float) -> float:\n",
    "\n",
    "    d = gra + (min/60) + (sec/3600) # d para degrees\n",
    "    r = (3.1415926535*d)/180 #r para radian\n",
    "    return r\n",
    "\n",
    "r = rad(40,30,61)\n",
    "print(r)"
   ]
  },
  {
   "cell_type": "code",
   "execution_count": 31,
   "id": "39ab0937",
   "metadata": {},
   "outputs": [
    {
     "name": "stdout",
     "output_type": "stream",
     "text": [
      "-0.5000000001425718\n"
     ]
    }
   ],
   "source": [
    "# Serie Seno \n",
    "def sen(d: float,cont:int = 80) -> float:\n",
    "    n:float = 0.0\n",
    "    k:float = 0.0\n",
    "    while n < cont:\n",
    "        result:float = ((-1)**n)*(((d)**((2*n)+1))/(factorial(((2*n)+1))))\n",
    "        k = k + result\n",
    "        n += 1\n",
    "\n",
    "    return k\n",
    "r = rad(330,0,0)\n",
    "res = sen(r)\n",
    "print(res)"
   ]
  },
  {
   "cell_type": "code",
   "execution_count": null,
   "id": "daba8f10",
   "metadata": {},
   "outputs": [],
   "source": [
    "# Serie Coseno\n",
    "def cos():\n",
    "    pass"
   ]
  },
  {
   "cell_type": "code",
   "execution_count": 3,
   "id": "116b0dac",
   "metadata": {},
   "outputs": [],
   "source": [
    "# Polinomio Seno"
   ]
  },
  {
   "cell_type": "code",
   "execution_count": null,
   "id": "6a6f665b",
   "metadata": {},
   "outputs": [],
   "source": [
    "# Polinomio Coseno"
   ]
  }
 ],
 "metadata": {
  "kernelspec": {
   "display_name": "Python 3",
   "language": "python",
   "name": "python3"
  },
  "language_info": {
   "codemirror_mode": {
    "name": "ipython",
    "version": 3
   },
   "file_extension": ".py",
   "mimetype": "text/x-python",
   "name": "python",
   "nbconvert_exporter": "python",
   "pygments_lexer": "ipython3",
   "version": "3.12.9"
  }
 },
 "nbformat": 4,
 "nbformat_minor": 5
}
